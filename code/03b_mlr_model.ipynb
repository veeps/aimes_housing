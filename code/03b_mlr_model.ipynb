{
 "cells": [
  {
   "cell_type": "markdown",
   "metadata": {},
   "source": [
    "# MLR Model"
   ]
  },
  {
   "cell_type": "code",
   "execution_count": 1,
   "metadata": {},
   "outputs": [],
   "source": [
    "# Import libraries here.\n",
    "import numpy as np\n",
    "import pandas as pd\n",
    "import matplotlib.pyplot as plt\n",
    "import seaborn as sns\n",
    "import pickle\n",
    "import datetime as dt\n",
    "import statsmodels.api as sm\n",
    "from sklearn.linear_model import LinearRegression\n",
    "from sklearn.model_selection import train_test_split, cross_val_score\n",
    "from sklearn.preprocessing import StandardScaler, PolynomialFeatures\n",
    "from scipy import stats \n",
    "pd.set_option('display.max_columns', None)\n",
    "\n",
    "%run ../assets/regression_metrics.py"
   ]
  },
  {
   "cell_type": "markdown",
   "metadata": {},
   "source": [
    "|Predictive Variable|Data type|Description|\n",
    "|:---|:---|:---|\n",
    "|overall_qual|Scale of 1 to 10|Rates the overall material and finish of the house|\n",
    "|full_bath|int|Full bathrooms above grade|\n",
    "|year_built|int|Original construction date|\n",
    "|gr_liv_area_log|log of square feet|Log of above grade (ground) living area square feet|\n",
    "|neighborhood_price_high|0 or 1|Is the neighborhood one standard deviation above the mean price per square feet of the total data set|\n",
    "|neighborhood_price_low|0 or 1|Is the neighborhood one standard deviation below the mean price per square feet of the total data set|\n",
    "|has_pool|0 or 1|Does the home have a pool|\n",
    "|ms_zoning_FV|0 or 1|Is the property in a Floating Village Residential Zone|\n",
    "|ms_zoning_RL|0 or 1|Is the property in a Residential Low Density Zone|\n",
    "|ms_zoning_RM|0 or 1|Residential Medium Density|\n",
    "|exter_cond|Ordinal 1 to 5|Evaluates the present condition of the material on the exterior|\n",
    "|lot_area_log|log of square feet|Lot size|\n",
    "|bath_bed_ratio|float|Ratio between number of bathrooms to number of bedrooms|\n",
    "|garage_qual_cars|float|Interaction between the quality of the garage and the number of cars it fits|\n",
    "|bsmt_qual|Ordinal 1 to 5|Evaluates the height of the basement|\n",
    "|has_remodel|0 or 1|Was the property recently remodeled|"
   ]
  },
  {
   "cell_type": "markdown",
   "metadata": {},
   "source": [
    "### 1. Read in data"
   ]
  },
  {
   "cell_type": "code",
   "execution_count": 2,
   "metadata": {},
   "outputs": [],
   "source": [
    "# load in train clean data from my pickle\n",
    "train = pickle.load(open(\"../assets/train_clean_model.pkl\", \"rb\"))"
   ]
  },
  {
   "cell_type": "code",
   "execution_count": 3,
   "metadata": {},
   "outputs": [],
   "source": [
    "# load in kaggle test clean data from my pickle\n",
    "kaggle_test = pickle.load(open(\"../assets/test_clean.pkl\", \"rb\"))"
   ]
  },
  {
   "cell_type": "code",
   "execution_count": 4,
   "metadata": {},
   "outputs": [],
   "source": [
    "# remove outliers for properties with square feet above 4000\n",
    "train = train[train[\"saleprice\"] < 400000]"
   ]
  },
  {
   "cell_type": "code",
   "execution_count": 5,
   "metadata": {},
   "outputs": [],
   "source": [
    "# take the log of ssale price\n",
    "train = train[train[\"gr_liv_area\"] < 4000]"
   ]
  },
  {
   "cell_type": "code",
   "execution_count": 6,
   "metadata": {},
   "outputs": [],
   "source": [
    "train[\"saleprice_log\"] = np.log(train[\"saleprice\"])"
   ]
  },
  {
   "cell_type": "markdown",
   "metadata": {},
   "source": [
    "Take a log of my predictors that have a strong correlation > 0.7 with sale price"
   ]
  },
  {
   "cell_type": "code",
   "execution_count": 7,
   "metadata": {},
   "outputs": [],
   "source": [
    "# take the log of square feet\n",
    "train[\"lot_area_log\"] = np.log(train[\"lot_area\"])"
   ]
  },
  {
   "cell_type": "code",
   "execution_count": 8,
   "metadata": {},
   "outputs": [],
   "source": [
    "# take the log of square feet\n",
    "train[\"gr_liv_area_log\"] = np.log(train[\"gr_liv_area\"])"
   ]
  },
  {
   "cell_type": "markdown",
   "metadata": {},
   "source": [
    "Set up our X and y variables"
   ]
  },
  {
   "cell_type": "code",
   "execution_count": 9,
   "metadata": {},
   "outputs": [],
   "source": [
    "#starting with these variables that I selected from my correlation matrix in EDA\n",
    "# features = [\"overall_cond\", \"overall_qual\", \n",
    "#             \"full_bath\", \"bedroom_abvgr\", \n",
    "#             \"has_remodel\", \"year_built\" , \n",
    "#             \"gr_liv_area\", \"central_air\", \n",
    "#             \"fireplaces\", \"has_pool\"]\n",
    "\n",
    "# features = [\"overall_qual\", \n",
    "#              \"full_bath\", \"bedroom_abvgr\", \n",
    "#              \"has_remodel\", \"year_built\" , \n",
    "#              \"gr_liv_area\", \"1st_flr_sf\", \n",
    "#             \"has_pool\",\n",
    "#             \"neighborhood_price_high\", \"neighborhood_price_low\",\n",
    "#            \"ms_zoning_FV\", \"ms_zoning_RL\",\n",
    "#            \"ms_zoning_RM\"]\n",
    "\n",
    "\n",
    "features = [\"overall_qual\", \n",
    "             \"full_bath\", \n",
    "             \"year_built\" , \n",
    "             \"gr_liv_area_log\", \n",
    "            \"neighborhood_price_high\", \"neighborhood_price_low\",\n",
    "            \"has_pool\",\n",
    "           \"ms_zoning_FV\", \"ms_zoning_RL\",\n",
    "           \"ms_zoning_RM\",\n",
    "            \"exter_cond\",\n",
    "           \"lot_area_log\", \"bed_bath_ratio\",\n",
    "           \"garage_qual_cars\", \"bsmt_qual\",\n",
    "           \"has_remodel\"]\n",
    "\n",
    "# generate a list of columns that have the dummy variables for condition\n",
    "condition_1 = list(train.columns[train.columns.str.contains(\"condition_1_\")])\n",
    "\n",
    "# append condition 1 columns to features list\n",
    "features.extend(condition_1)"
   ]
  },
  {
   "cell_type": "code",
   "execution_count": 10,
   "metadata": {},
   "outputs": [],
   "source": [
    "# set up my X and y variables\n",
    "X = train[features]\n",
    "y = train[\"saleprice_log\"]"
   ]
  },
  {
   "cell_type": "markdown",
   "metadata": {},
   "source": [
    "### 2 . Split our data into test and train. \n",
    "- Will keep the default split at 75% train and 25% test since I have a relatively big data set."
   ]
  },
  {
   "cell_type": "code",
   "execution_count": 11,
   "metadata": {},
   "outputs": [],
   "source": [
    "# split data into train and test\n",
    "X_train, X_test, y_train, y_test = train_test_split(X, y, random_state= 123)"
   ]
  },
  {
   "cell_type": "markdown",
   "metadata": {},
   "source": [
    "### 3. Fit a linear regression model"
   ]
  },
  {
   "cell_type": "code",
   "execution_count": 12,
   "metadata": {},
   "outputs": [
    {
     "data": {
      "text/plain": [
       "LinearRegression(copy_X=True, fit_intercept=True, n_jobs=None, normalize=False)"
      ]
     },
     "execution_count": 12,
     "metadata": {},
     "output_type": "execute_result"
    }
   ],
   "source": [
    "# instantiate model\n",
    "lr = LinearRegression()\n",
    "\n",
    "# fit model on train and test split\n",
    "lr.fit(X_train, y_train)\n",
    "lr.fit(X_test, y_test)"
   ]
  },
  {
   "cell_type": "markdown",
   "metadata": {},
   "source": [
    "### 4. Generate Predictions"
   ]
  },
  {
   "cell_type": "code",
   "execution_count": 13,
   "metadata": {},
   "outputs": [],
   "source": [
    "# generate predicitions on train split\n",
    "y_pred = lr.predict(X_train)"
   ]
  },
  {
   "cell_type": "code",
   "execution_count": 14,
   "metadata": {},
   "outputs": [],
   "source": [
    "# generate predicitions on test split\n",
    "y_pred_test = lr.predict(X_test)"
   ]
  },
  {
   "cell_type": "markdown",
   "metadata": {},
   "source": [
    "### 5. Evaluate my model"
   ]
  },
  {
   "cell_type": "code",
   "execution_count": 15,
   "metadata": {},
   "outputs": [
    {
     "data": {
      "text/plain": [
       "0.896697314704813"
      ]
     },
     "execution_count": 15,
     "metadata": {},
     "output_type": "execute_result"
    }
   ],
   "source": [
    "# Train score\n",
    "lr.score(X_train, y_train)"
   ]
  },
  {
   "cell_type": "code",
   "execution_count": 16,
   "metadata": {},
   "outputs": [
    {
     "data": {
      "text/plain": [
       "0.9175006769284997"
      ]
     },
     "execution_count": 16,
     "metadata": {},
     "output_type": "execute_result"
    }
   ],
   "source": [
    "# Test score\n",
    "lr.score(X_test, y_test)"
   ]
  },
  {
   "cell_type": "code",
   "execution_count": 18,
   "metadata": {},
   "outputs": [
    {
     "data": {
      "text/plain": [
       "0.8943723805507389"
      ]
     },
     "execution_count": 18,
     "metadata": {},
     "output_type": "execute_result"
    }
   ],
   "source": [
    "# cross validation score\n",
    "cross_val_score(lr, X_train, y_train, cv = 5).mean()"
   ]
  },
  {
   "cell_type": "code",
   "execution_count": 19,
   "metadata": {},
   "outputs": [
    {
     "name": "stdout",
     "output_type": "stream",
     "text": [
      "rmse: 19814.37995067342\n"
     ]
    }
   ],
   "source": [
    "# calculate root mean squared error\n",
    "rmse = np.sqrt(metrics.mean_squared_error(np.exp(y_train), np.exp(y_pred)))\n",
    "print(f\"rmse: {rmse}\")"
   ]
  },
  {
   "cell_type": "code",
   "execution_count": 31,
   "metadata": {
    "scrolled": true
   },
   "outputs": [
    {
     "data": {
      "text/html": [
       "<div>\n",
       "<style scoped>\n",
       "    .dataframe tbody tr th:only-of-type {\n",
       "        vertical-align: middle;\n",
       "    }\n",
       "\n",
       "    .dataframe tbody tr th {\n",
       "        vertical-align: top;\n",
       "    }\n",
       "\n",
       "    .dataframe thead th {\n",
       "        text-align: right;\n",
       "    }\n",
       "</style>\n",
       "<table border=\"1\" class=\"dataframe\">\n",
       "  <thead>\n",
       "    <tr style=\"text-align: right;\">\n",
       "      <th></th>\n",
       "      <th>index</th>\n",
       "      <th>Model Based on overall_qual full_bath year_built gr_liv_area_log neighborhood_price_high neighborhood_price_low has_pool ms_zoning_FV ms_zoning_RL ms_zoning_RM exter_cond lot_area_log bed_bath_ratio garage_qual_cars bsmt_qual has_remodel condition_1_Artery condition_1_Feedr condition_1_PosA condition_1_PosN condition_1_RRAe condition_1_RRAn condition_1_RRNe condition_1_RRNn</th>\n",
       "    </tr>\n",
       "  </thead>\n",
       "  <tbody>\n",
       "    <tr>\n",
       "      <th>0</th>\n",
       "      <td>MAE</td>\n",
       "      <td>0.09</td>\n",
       "    </tr>\n",
       "    <tr>\n",
       "      <th>1</th>\n",
       "      <td>MSE</td>\n",
       "      <td>0.02</td>\n",
       "    </tr>\n",
       "    <tr>\n",
       "      <th>2</th>\n",
       "      <td>RSS</td>\n",
       "      <td>23.53</td>\n",
       "    </tr>\n",
       "    <tr>\n",
       "      <th>3</th>\n",
       "      <td>RMSE</td>\n",
       "      <td>0.13</td>\n",
       "    </tr>\n",
       "    <tr>\n",
       "      <th>4</th>\n",
       "      <td>R Squared</td>\n",
       "      <td>0.90</td>\n",
       "    </tr>\n",
       "    <tr>\n",
       "      <th>5</th>\n",
       "      <td>Adjusted R Squared</td>\n",
       "      <td>0.90</td>\n",
       "    </tr>\n",
       "  </tbody>\n",
       "</table>\n",
       "</div>"
      ],
      "text/plain": [
       "                index  \\\n",
       "0                 MAE   \n",
       "1                 MSE   \n",
       "2                 RSS   \n",
       "3                RMSE   \n",
       "4           R Squared   \n",
       "5  Adjusted R Squared   \n",
       "\n",
       "   Model Based on overall_qual full_bath year_built gr_liv_area_log neighborhood_price_high neighborhood_price_low has_pool ms_zoning_FV ms_zoning_RL ms_zoning_RM exter_cond lot_area_log bed_bath_ratio garage_qual_cars bsmt_qual has_remodel condition_1_Artery condition_1_Feedr condition_1_PosA condition_1_PosN condition_1_RRAe condition_1_RRAn condition_1_RRNe condition_1_RRNn  \n",
       "0                                               0.09                                                                                                                                                                                                                                                                                                                                         \n",
       "1                                               0.02                                                                                                                                                                                                                                                                                                                                         \n",
       "2                                              23.53                                                                                                                                                                                                                                                                                                                                         \n",
       "3                                               0.13                                                                                                                                                                                                                                                                                                                                         \n",
       "4                                               0.90                                                                                                                                                                                                                                                                                                                                         \n",
       "5                                               0.90                                                                                                                                                                                                                                                                                                                                         "
      ]
     },
     "execution_count": 31,
     "metadata": {},
     "output_type": "execute_result"
    }
   ],
   "source": [
    "# get a summary of regression metrics. This is a custom function I created in ./assets/regression_metrics.py\n",
    "regression_metrics(X_train, y_train, y_pred)"
   ]
  },
  {
   "cell_type": "code",
   "execution_count": 32,
   "metadata": {},
   "outputs": [
    {
     "data": {
      "text/html": [
       "<div>\n",
       "<style scoped>\n",
       "    .dataframe tbody tr th:only-of-type {\n",
       "        vertical-align: middle;\n",
       "    }\n",
       "\n",
       "    .dataframe tbody tr th {\n",
       "        vertical-align: top;\n",
       "    }\n",
       "\n",
       "    .dataframe thead th {\n",
       "        text-align: right;\n",
       "    }\n",
       "</style>\n",
       "<table border=\"1\" class=\"dataframe\">\n",
       "  <thead>\n",
       "    <tr style=\"text-align: right;\">\n",
       "      <th></th>\n",
       "      <th>index</th>\n",
       "      <th>Model Based on overall_qual full_bath year_built gr_liv_area_log neighborhood_price_high neighborhood_price_low has_pool ms_zoning_FV ms_zoning_RL ms_zoning_RM exter_cond lot_area_log bed_bath_ratio garage_qual_cars bsmt_qual has_remodel condition_1_Artery condition_1_Feedr condition_1_PosA condition_1_PosN condition_1_RRAe condition_1_RRAn condition_1_RRNe condition_1_RRNn</th>\n",
       "    </tr>\n",
       "  </thead>\n",
       "  <tbody>\n",
       "    <tr>\n",
       "      <th>0</th>\n",
       "      <td>MAE</td>\n",
       "      <td>0.08</td>\n",
       "    </tr>\n",
       "    <tr>\n",
       "      <th>1</th>\n",
       "      <td>MSE</td>\n",
       "      <td>0.01</td>\n",
       "    </tr>\n",
       "    <tr>\n",
       "      <th>2</th>\n",
       "      <td>RSS</td>\n",
       "      <td>5.69</td>\n",
       "    </tr>\n",
       "    <tr>\n",
       "      <th>3</th>\n",
       "      <td>RMSE</td>\n",
       "      <td>0.11</td>\n",
       "    </tr>\n",
       "    <tr>\n",
       "      <th>4</th>\n",
       "      <td>R Squared</td>\n",
       "      <td>0.92</td>\n",
       "    </tr>\n",
       "    <tr>\n",
       "      <th>5</th>\n",
       "      <td>Adjusted R Squared</td>\n",
       "      <td>0.91</td>\n",
       "    </tr>\n",
       "  </tbody>\n",
       "</table>\n",
       "</div>"
      ],
      "text/plain": [
       "                index  \\\n",
       "0                 MAE   \n",
       "1                 MSE   \n",
       "2                 RSS   \n",
       "3                RMSE   \n",
       "4           R Squared   \n",
       "5  Adjusted R Squared   \n",
       "\n",
       "   Model Based on overall_qual full_bath year_built gr_liv_area_log neighborhood_price_high neighborhood_price_low has_pool ms_zoning_FV ms_zoning_RL ms_zoning_RM exter_cond lot_area_log bed_bath_ratio garage_qual_cars bsmt_qual has_remodel condition_1_Artery condition_1_Feedr condition_1_PosA condition_1_PosN condition_1_RRAe condition_1_RRAn condition_1_RRNe condition_1_RRNn  \n",
       "0                                               0.08                                                                                                                                                                                                                                                                                                                                         \n",
       "1                                               0.01                                                                                                                                                                                                                                                                                                                                         \n",
       "2                                               5.69                                                                                                                                                                                                                                                                                                                                         \n",
       "3                                               0.11                                                                                                                                                                                                                                                                                                                                         \n",
       "4                                               0.92                                                                                                                                                                                                                                                                                                                                         \n",
       "5                                               0.91                                                                                                                                                                                                                                                                                                                                         "
      ]
     },
     "execution_count": 32,
     "metadata": {},
     "output_type": "execute_result"
    }
   ],
   "source": [
    "# summary of model for test split\n",
    "regression_metrics(X_test, y_test, y_pred_test)"
   ]
  },
  {
   "cell_type": "markdown",
   "metadata": {},
   "source": [
    "Plot my predicted sale prices vs. actual sale prices"
   ]
  },
  {
   "cell_type": "code",
   "execution_count": 33,
   "metadata": {},
   "outputs": [
    {
     "data": {
      "image/png": "[encoded data removed]",
      "text/plain": [
       "<Figure size 864x648 with 1 Axes>"
      ]
     },
     "metadata": {
      "needs_background": "light"
     },
     "output_type": "display_data"
    }
   ],
   "source": [
    "# Code from 3.01-lesson-linear_regression \n",
    "# Plot the model\n",
    "plt.figure(figsize=(12,9))\n",
    "\n",
    "# Generate a scatterplot of predicted values versus actual values.\n",
    "plt.scatter(np.exp(y_pred), np.exp(y_train), s=5, color='skyblue', alpha = 0.8)\n",
    "\n",
    "# Plot a line.\n",
    "plt.plot([0, np.exp(np.max(y))],\n",
    "         [0, np.exp(np.max(y))],\n",
    "         color = 'black')\n",
    "\n",
    "# Tweak title and axis labels.\n",
    "plt.xlabel(\"Predicted Values: $\\hat{y}$\", fontsize = 20)\n",
    "plt.ylabel(\"Actual Values: $y$\", fontsize = 20)\n",
    "plt.title('Predicted Values vs. Actual Values', fontsize = 24)\n",
    "plt.savefig('../plots/mlr.png');"
   ]
  },
  {
   "cell_type": "markdown",
   "metadata": {},
   "source": [
    "I still see some spread among the homes greater than $300,000 but it looks slightly better than my previous linear regression model."
   ]
  },
  {
   "cell_type": "markdown",
   "metadata": {},
   "source": [
    "### 6. Run model on Kaggle test data"
   ]
  },
  {
   "cell_type": "markdown",
   "metadata": {},
   "source": [
    "Set up X and y variables on Kaggle test dataset"
   ]
  },
  {
   "cell_type": "code",
   "execution_count": 256,
   "metadata": {},
   "outputs": [],
   "source": [
    "# take log of square feet\n",
    "kaggle_test[\"gr_liv_area_log\"] = np.log(kaggle_test[\"gr_liv_area\"])"
   ]
  },
  {
   "cell_type": "code",
   "execution_count": 257,
   "metadata": {},
   "outputs": [],
   "source": [
    "# take log of square feet\n",
    "\n",
    "kaggle_test[\"lot_area_log\"] = np.log(kaggle_test[\"lot_area\"])"
   ]
  },
  {
   "cell_type": "code",
   "execution_count": 258,
   "metadata": {},
   "outputs": [],
   "source": [
    "# create X variable\n",
    "X_kaggle = kaggle_test[features]"
   ]
  },
  {
   "cell_type": "code",
   "execution_count": 259,
   "metadata": {
    "scrolled": true
   },
   "outputs": [],
   "source": [
    "# generate predictions\n",
    "y_preds = np.exp(lr.predict(X_kaggle))"
   ]
  },
  {
   "cell_type": "code",
   "execution_count": 260,
   "metadata": {},
   "outputs": [],
   "source": [
    "# create a dataframe for submissions\n",
    "submission = pd.DataFrame(y_preds, index=kaggle_test.index, columns=['SalePrice'])"
   ]
  },
  {
   "cell_type": "code",
   "execution_count": 261,
   "metadata": {},
   "outputs": [],
   "source": [
    "# sort by index\n",
    "submission.sort_index(inplace=True)"
   ]
  },
  {
   "cell_type": "markdown",
   "metadata": {},
   "source": [
    "### Write out submission"
   ]
  },
  {
   "cell_type": "code",
   "execution_count": 113,
   "metadata": {},
   "outputs": [],
   "source": [
    "# write to csv\n",
    "submission.to_csv(\"../datasets/submission_mlr_11.csv\")"
   ]
  }
 ],
 "metadata": {
  "kernelspec": {
   "display_name": "Python 3",
   "language": "python",
   "name": "python3"
  },
  "language_info": {
   "codemirror_mode": {
    "name": "ipython",
    "version": 3
   },
   "file_extension": ".py",
   "mimetype": "text/x-python",
   "name": "python",
   "nbconvert_exporter": "python",
   "pygments_lexer": "ipython3",
   "version": "3.7.4"
  }
 },
 "nbformat": 4,
 "nbformat_minor": 2
}
