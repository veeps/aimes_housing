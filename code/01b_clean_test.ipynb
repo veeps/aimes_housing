{
 "cells": [
  {
   "cell_type": "markdown",
   "metadata": {},
   "source": [
    "# Cleaning test data"
   ]
  },
  {
   "cell_type": "code",
   "execution_count": 5,
   "metadata": {},
   "outputs": [],
   "source": [
    "# Import libraries here.\n",
    "import numpy as np\n",
    "import pandas as pd\n",
    "import matplotlib.pyplot as plt\n",
    "import seaborn as sns\n",
    "import missingno as msno\n",
    "import pickle\n",
    "%run ../assets/eda.py\n",
    "%run ../assets/clean.py"
   ]
  },
  {
   "cell_type": "markdown",
   "metadata": {},
   "source": [
    "### Read in data"
   ]
  },
  {
   "cell_type": "code",
   "execution_count": 6,
   "metadata": {},
   "outputs": [],
   "source": [
    "# filepath\n",
    "filepath = \"../datasets/test.csv\""
   ]
  },
  {
   "cell_type": "markdown",
   "metadata": {},
   "source": [
    "### Clean data\n",
    "\n",
    "I wrote out my cleaning steps from the training data into a custom function. The function reads in a csv, cleans on the same columns as my training set, and returns a pandas dataframe. Code for the cleaning script can be found [here](../assets/clean.py)."
   ]
  },
  {
   "cell_type": "code",
   "execution_count": 7,
   "metadata": {},
   "outputs": [],
   "source": [
    "# read in my test data set\n",
    "test = clean(filepath)"
   ]
  },
  {
   "cell_type": "code",
   "execution_count": 8,
   "metadata": {},
   "outputs": [
    {
     "data": {
      "text/html": [
       "<div>\n",
       "<style scoped>\n",
       "    .dataframe tbody tr th:only-of-type {\n",
       "        vertical-align: middle;\n",
       "    }\n",
       "\n",
       "    .dataframe tbody tr th {\n",
       "        vertical-align: top;\n",
       "    }\n",
       "\n",
       "    .dataframe thead th {\n",
       "        text-align: right;\n",
       "    }\n",
       "</style>\n",
       "<table border=\"1\" class=\"dataframe\">\n",
       "  <thead>\n",
       "    <tr style=\"text-align: right;\">\n",
       "      <th></th>\n",
       "      <th></th>\n",
       "      <th>pid</th>\n",
       "      <th>ms_subclass</th>\n",
       "      <th>lot_frontage</th>\n",
       "      <th>lot_area</th>\n",
       "      <th>street</th>\n",
       "      <th>alley</th>\n",
       "      <th>lot_shape</th>\n",
       "      <th>land_contour</th>\n",
       "      <th>utilities</th>\n",
       "      <th>lot_config</th>\n",
       "      <th>...</th>\n",
       "      <th>condition_1_RRAe</th>\n",
       "      <th>condition_1_RRAn</th>\n",
       "      <th>condition_1_RRNe</th>\n",
       "      <th>condition_1_RRNn</th>\n",
       "      <th>housing_stock</th>\n",
       "      <th>bed_bath_ratio</th>\n",
       "      <th>garage_type_Attchd</th>\n",
       "      <th>garage_type_Basment</th>\n",
       "      <th>garage_type_BuiltIn</th>\n",
       "      <th>garage_qual_cars</th>\n",
       "    </tr>\n",
       "  </thead>\n",
       "  <tbody>\n",
       "    <tr>\n",
       "      <th>nulls</th>\n",
       "      <th>0</th>\n",
       "      <td>0</td>\n",
       "      <td>0</td>\n",
       "      <td>160</td>\n",
       "      <td>0</td>\n",
       "      <td>0</td>\n",
       "      <td>0</td>\n",
       "      <td>0</td>\n",
       "      <td>0</td>\n",
       "      <td>0</td>\n",
       "      <td>0</td>\n",
       "      <td>...</td>\n",
       "      <td>0</td>\n",
       "      <td>0</td>\n",
       "      <td>0</td>\n",
       "      <td>0</td>\n",
       "      <td>0</td>\n",
       "      <td>0</td>\n",
       "      <td>0</td>\n",
       "      <td>0</td>\n",
       "      <td>0</td>\n",
       "      <td>0</td>\n",
       "    </tr>\n",
       "    <tr>\n",
       "      <th>datatypes</th>\n",
       "      <th>0</th>\n",
       "      <td>int64</td>\n",
       "      <td>int64</td>\n",
       "      <td>float64</td>\n",
       "      <td>int64</td>\n",
       "      <td>object</td>\n",
       "      <td>object</td>\n",
       "      <td>object</td>\n",
       "      <td>object</td>\n",
       "      <td>object</td>\n",
       "      <td>object</td>\n",
       "      <td>...</td>\n",
       "      <td>uint8</td>\n",
       "      <td>uint8</td>\n",
       "      <td>uint8</td>\n",
       "      <td>uint8</td>\n",
       "      <td>int64</td>\n",
       "      <td>float64</td>\n",
       "      <td>uint8</td>\n",
       "      <td>uint8</td>\n",
       "      <td>uint8</td>\n",
       "      <td>float64</td>\n",
       "    </tr>\n",
       "  </tbody>\n",
       "</table>\n",
       "<p>2 rows × 95 columns</p>\n",
       "</div>"
      ],
      "text/plain": [
       "               pid ms_subclass lot_frontage lot_area  street   alley  \\\n",
       "nulls     0      0           0          160        0       0       0   \n",
       "datatypes 0  int64       int64      float64    int64  object  object   \n",
       "\n",
       "            lot_shape land_contour utilities lot_config  ... condition_1_RRAe  \\\n",
       "nulls     0         0            0         0          0  ...                0   \n",
       "datatypes 0    object       object    object     object  ...            uint8   \n",
       "\n",
       "            condition_1_RRAn condition_1_RRNe condition_1_RRNn housing_stock  \\\n",
       "nulls     0                0                0                0             0   \n",
       "datatypes 0            uint8            uint8            uint8         int64   \n",
       "\n",
       "            bed_bath_ratio garage_type_Attchd garage_type_Basment  \\\n",
       "nulls     0              0                  0                   0   \n",
       "datatypes 0        float64              uint8               uint8   \n",
       "\n",
       "            garage_type_BuiltIn garage_qual_cars  \n",
       "nulls     0                   0                0  \n",
       "datatypes 0               uint8          float64  \n",
       "\n",
       "[2 rows x 95 columns]"
      ]
     },
     "execution_count": 8,
     "metadata": {},
     "output_type": "execute_result"
    }
   ],
   "source": [
    "eda(test)"
   ]
  },
  {
   "cell_type": "markdown",
   "metadata": {},
   "source": [
    "# Pickle test data for modeling"
   ]
  },
  {
   "cell_type": "code",
   "execution_count": 9,
   "metadata": {},
   "outputs": [],
   "source": [
    "pickle.dump(test, open(\"../assets/test_clean.pkl\", \"wb\"))"
   ]
  },
  {
   "cell_type": "code",
   "execution_count": null,
   "metadata": {},
   "outputs": [],
   "source": []
  }
 ],
 "metadata": {
  "kernelspec": {
   "display_name": "Python 3",
   "language": "python",
   "name": "python3"
  },
  "language_info": {
   "codemirror_mode": {
    "name": "ipython",
    "version": 3
   },
   "file_extension": ".py",
   "mimetype": "text/x-python",
   "name": "python",
   "nbconvert_exporter": "python",
   "pygments_lexer": "ipython3",
   "version": "3.7.4"
  }
 },
 "nbformat": 4,
 "nbformat_minor": 2
}
