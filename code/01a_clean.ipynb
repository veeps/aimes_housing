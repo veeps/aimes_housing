{
 "cells": [
  {
   "cell_type": "markdown",
   "metadata": {},
   "source": [
    "# Cleaning data"
   ]
  },
  {
   "cell_type": "markdown",
   "metadata": {},
   "source": [
    "Using the data dictionary from Kaggle as reference: [http://jse.amstat.org/v19n3/decock/DataDocumentation.txt](http://jse.amstat.org/v19n3/decock/DataDocumentation.txt)"
   ]
  },
  {
   "cell_type": "code",
   "execution_count": 9,
   "metadata": {},
   "outputs": [],
   "source": [
    "# Import libraries here.\n",
    "import numpy as np\n",
    "import pandas as pd\n",
    "import matplotlib.pyplot as plt\n",
    "import seaborn as sns\n",
    "import missingno as msno\n",
    "import pickle\n",
    "%run ../assets/eda.py\n",
    "pd.set_option('display.max_columns', None)"
   ]
  },
  {
   "cell_type": "markdown",
   "metadata": {},
   "source": [
    "### 1. Read data"
   ]
  },
  {
   "cell_type": "code",
   "execution_count": 10,
   "metadata": {},
   "outputs": [],
   "source": [
    "train = pd.read_csv('../datasets/train.csv')"
   ]
  },
  {
   "cell_type": "markdown",
   "metadata": {},
   "source": [
    "Clean column names"
   ]
  },
  {
   "cell_type": "code",
   "execution_count": 11,
   "metadata": {},
   "outputs": [],
   "source": [
    "# remove space in column names\n",
    "train.columns = train.columns.str.replace(' ', '_')\n",
    "\n",
    "# lowercase column names\n",
    "train.columns = train.columns.str.lower()"
   ]
  },
  {
   "cell_type": "markdown",
   "metadata": {},
   "source": [
    "### 2. Cleaning missing values"
   ]
  },
  {
   "cell_type": "markdown",
   "metadata": {},
   "source": [
    "First let's look at the missing values in each column"
   ]
  },
  {
   "cell_type": "code",
   "execution_count": 12,
   "metadata": {},
   "outputs": [
    {
     "data": {
      "text/plain": [
       "(2051, 81)"
      ]
     },
     "execution_count": 12,
     "metadata": {},
     "output_type": "execute_result"
    }
   ],
   "source": [
    "train.shape"
   ]
  },
  {
   "cell_type": "code",
   "execution_count": 13,
   "metadata": {
    "scrolled": true
   },
   "outputs": [
    {
     "data": {
      "text/html": [
       "<div>\n",
       "<style scoped>\n",
       "    .dataframe tbody tr th:only-of-type {\n",
       "        vertical-align: middle;\n",
       "    }\n",
       "\n",
       "    .dataframe tbody tr th {\n",
       "        vertical-align: top;\n",
       "    }\n",
       "\n",
       "    .dataframe thead th {\n",
       "        text-align: right;\n",
       "    }\n",
       "</style>\n",
       "<table border=\"1\" class=\"dataframe\">\n",
       "  <thead>\n",
       "    <tr style=\"text-align: right;\">\n",
       "      <th></th>\n",
       "      <th></th>\n",
       "      <th>id</th>\n",
       "      <th>pid</th>\n",
       "      <th>ms_subclass</th>\n",
       "      <th>ms_zoning</th>\n",
       "      <th>lot_frontage</th>\n",
       "      <th>lot_area</th>\n",
       "      <th>street</th>\n",
       "      <th>alley</th>\n",
       "      <th>lot_shape</th>\n",
       "      <th>land_contour</th>\n",
       "      <th>utilities</th>\n",
       "      <th>lot_config</th>\n",
       "      <th>land_slope</th>\n",
       "      <th>neighborhood</th>\n",
       "      <th>condition_1</th>\n",
       "      <th>condition_2</th>\n",
       "      <th>bldg_type</th>\n",
       "      <th>house_style</th>\n",
       "      <th>overall_qual</th>\n",
       "      <th>overall_cond</th>\n",
       "      <th>year_built</th>\n",
       "      <th>year_remod/add</th>\n",
       "      <th>roof_style</th>\n",
       "      <th>roof_matl</th>\n",
       "      <th>exterior_1st</th>\n",
       "      <th>exterior_2nd</th>\n",
       "      <th>mas_vnr_type</th>\n",
       "      <th>mas_vnr_area</th>\n",
       "      <th>exter_qual</th>\n",
       "      <th>exter_cond</th>\n",
       "      <th>foundation</th>\n",
       "      <th>bsmt_qual</th>\n",
       "      <th>bsmt_cond</th>\n",
       "      <th>bsmt_exposure</th>\n",
       "      <th>bsmtfin_type_1</th>\n",
       "      <th>bsmtfin_sf_1</th>\n",
       "      <th>bsmtfin_type_2</th>\n",
       "      <th>bsmtfin_sf_2</th>\n",
       "      <th>bsmt_unf_sf</th>\n",
       "      <th>total_bsmt_sf</th>\n",
       "      <th>heating</th>\n",
       "      <th>heating_qc</th>\n",
       "      <th>central_air</th>\n",
       "      <th>electrical</th>\n",
       "      <th>1st_flr_sf</th>\n",
       "      <th>2nd_flr_sf</th>\n",
       "      <th>low_qual_fin_sf</th>\n",
       "      <th>gr_liv_area</th>\n",
       "      <th>bsmt_full_bath</th>\n",
       "      <th>bsmt_half_bath</th>\n",
       "      <th>full_bath</th>\n",
       "      <th>half_bath</th>\n",
       "      <th>bedroom_abvgr</th>\n",
       "      <th>kitchen_abvgr</th>\n",
       "      <th>kitchen_qual</th>\n",
       "      <th>totrms_abvgrd</th>\n",
       "      <th>functional</th>\n",
       "      <th>fireplaces</th>\n",
       "      <th>fireplace_qu</th>\n",
       "      <th>garage_type</th>\n",
       "      <th>garage_yr_blt</th>\n",
       "      <th>garage_finish</th>\n",
       "      <th>garage_cars</th>\n",
       "      <th>garage_area</th>\n",
       "      <th>garage_qual</th>\n",
       "      <th>garage_cond</th>\n",
       "      <th>paved_drive</th>\n",
       "      <th>wood_deck_sf</th>\n",
       "      <th>open_porch_sf</th>\n",
       "      <th>enclosed_porch</th>\n",
       "      <th>3ssn_porch</th>\n",
       "      <th>screen_porch</th>\n",
       "      <th>pool_area</th>\n",
       "      <th>pool_qc</th>\n",
       "      <th>fence</th>\n",
       "      <th>misc_feature</th>\n",
       "      <th>misc_val</th>\n",
       "      <th>mo_sold</th>\n",
       "      <th>yr_sold</th>\n",
       "      <th>sale_type</th>\n",
       "      <th>saleprice</th>\n",
       "    </tr>\n",
       "  </thead>\n",
       "  <tbody>\n",
       "    <tr>\n",
       "      <th>nulls</th>\n",
       "      <th>0</th>\n",
       "      <td>0</td>\n",
       "      <td>0</td>\n",
       "      <td>0</td>\n",
       "      <td>0</td>\n",
       "      <td>330</td>\n",
       "      <td>0</td>\n",
       "      <td>0</td>\n",
       "      <td>1911</td>\n",
       "      <td>0</td>\n",
       "      <td>0</td>\n",
       "      <td>0</td>\n",
       "      <td>0</td>\n",
       "      <td>0</td>\n",
       "      <td>0</td>\n",
       "      <td>0</td>\n",
       "      <td>0</td>\n",
       "      <td>0</td>\n",
       "      <td>0</td>\n",
       "      <td>0</td>\n",
       "      <td>0</td>\n",
       "      <td>0</td>\n",
       "      <td>0</td>\n",
       "      <td>0</td>\n",
       "      <td>0</td>\n",
       "      <td>0</td>\n",
       "      <td>0</td>\n",
       "      <td>22</td>\n",
       "      <td>22</td>\n",
       "      <td>0</td>\n",
       "      <td>0</td>\n",
       "      <td>0</td>\n",
       "      <td>55</td>\n",
       "      <td>55</td>\n",
       "      <td>58</td>\n",
       "      <td>55</td>\n",
       "      <td>1</td>\n",
       "      <td>56</td>\n",
       "      <td>1</td>\n",
       "      <td>1</td>\n",
       "      <td>1</td>\n",
       "      <td>0</td>\n",
       "      <td>0</td>\n",
       "      <td>0</td>\n",
       "      <td>0</td>\n",
       "      <td>0</td>\n",
       "      <td>0</td>\n",
       "      <td>0</td>\n",
       "      <td>0</td>\n",
       "      <td>2</td>\n",
       "      <td>2</td>\n",
       "      <td>0</td>\n",
       "      <td>0</td>\n",
       "      <td>0</td>\n",
       "      <td>0</td>\n",
       "      <td>0</td>\n",
       "      <td>0</td>\n",
       "      <td>0</td>\n",
       "      <td>0</td>\n",
       "      <td>1000</td>\n",
       "      <td>113</td>\n",
       "      <td>114</td>\n",
       "      <td>114</td>\n",
       "      <td>1</td>\n",
       "      <td>1</td>\n",
       "      <td>114</td>\n",
       "      <td>114</td>\n",
       "      <td>0</td>\n",
       "      <td>0</td>\n",
       "      <td>0</td>\n",
       "      <td>0</td>\n",
       "      <td>0</td>\n",
       "      <td>0</td>\n",
       "      <td>0</td>\n",
       "      <td>2042</td>\n",
       "      <td>1651</td>\n",
       "      <td>1986</td>\n",
       "      <td>0</td>\n",
       "      <td>0</td>\n",
       "      <td>0</td>\n",
       "      <td>0</td>\n",
       "      <td>0</td>\n",
       "    </tr>\n",
       "    <tr>\n",
       "      <th>datatypes</th>\n",
       "      <th>0</th>\n",
       "      <td>int64</td>\n",
       "      <td>int64</td>\n",
       "      <td>int64</td>\n",
       "      <td>object</td>\n",
       "      <td>float64</td>\n",
       "      <td>int64</td>\n",
       "      <td>object</td>\n",
       "      <td>object</td>\n",
       "      <td>object</td>\n",
       "      <td>object</td>\n",
       "      <td>object</td>\n",
       "      <td>object</td>\n",
       "      <td>object</td>\n",
       "      <td>object</td>\n",
       "      <td>object</td>\n",
       "      <td>object</td>\n",
       "      <td>object</td>\n",
       "      <td>object</td>\n",
       "      <td>int64</td>\n",
       "      <td>int64</td>\n",
       "      <td>int64</td>\n",
       "      <td>int64</td>\n",
       "      <td>object</td>\n",
       "      <td>object</td>\n",
       "      <td>object</td>\n",
       "      <td>object</td>\n",
       "      <td>object</td>\n",
       "      <td>float64</td>\n",
       "      <td>object</td>\n",
       "      <td>object</td>\n",
       "      <td>object</td>\n",
       "      <td>object</td>\n",
       "      <td>object</td>\n",
       "      <td>object</td>\n",
       "      <td>object</td>\n",
       "      <td>float64</td>\n",
       "      <td>object</td>\n",
       "      <td>float64</td>\n",
       "      <td>float64</td>\n",
       "      <td>float64</td>\n",
       "      <td>object</td>\n",
       "      <td>object</td>\n",
       "      <td>object</td>\n",
       "      <td>object</td>\n",
       "      <td>int64</td>\n",
       "      <td>int64</td>\n",
       "      <td>int64</td>\n",
       "      <td>int64</td>\n",
       "      <td>float64</td>\n",
       "      <td>float64</td>\n",
       "      <td>int64</td>\n",
       "      <td>int64</td>\n",
       "      <td>int64</td>\n",
       "      <td>int64</td>\n",
       "      <td>object</td>\n",
       "      <td>int64</td>\n",
       "      <td>object</td>\n",
       "      <td>int64</td>\n",
       "      <td>object</td>\n",
       "      <td>object</td>\n",
       "      <td>float64</td>\n",
       "      <td>object</td>\n",
       "      <td>float64</td>\n",
       "      <td>float64</td>\n",
       "      <td>object</td>\n",
       "      <td>object</td>\n",
       "      <td>object</td>\n",
       "      <td>int64</td>\n",
       "      <td>int64</td>\n",
       "      <td>int64</td>\n",
       "      <td>int64</td>\n",
       "      <td>int64</td>\n",
       "      <td>int64</td>\n",
       "      <td>object</td>\n",
       "      <td>object</td>\n",
       "      <td>object</td>\n",
       "      <td>int64</td>\n",
       "      <td>int64</td>\n",
       "      <td>int64</td>\n",
       "      <td>object</td>\n",
       "      <td>int64</td>\n",
       "    </tr>\n",
       "  </tbody>\n",
       "</table>\n",
       "</div>"
      ],
      "text/plain": [
       "                id    pid ms_subclass ms_zoning lot_frontage lot_area  street  \\\n",
       "nulls     0      0      0           0         0          330        0       0   \n",
       "datatypes 0  int64  int64       int64    object      float64    int64  object   \n",
       "\n",
       "              alley lot_shape land_contour utilities lot_config land_slope  \\\n",
       "nulls     0    1911         0            0         0          0          0   \n",
       "datatypes 0  object    object       object    object     object     object   \n",
       "\n",
       "            neighborhood condition_1 condition_2 bldg_type house_style  \\\n",
       "nulls     0            0           0           0         0           0   \n",
       "datatypes 0       object      object      object    object      object   \n",
       "\n",
       "            overall_qual overall_cond year_built year_remod/add roof_style  \\\n",
       "nulls     0            0            0          0              0          0   \n",
       "datatypes 0        int64        int64      int64          int64     object   \n",
       "\n",
       "            roof_matl exterior_1st exterior_2nd mas_vnr_type mas_vnr_area  \\\n",
       "nulls     0         0            0            0           22           22   \n",
       "datatypes 0    object       object       object       object      float64   \n",
       "\n",
       "            exter_qual exter_cond foundation bsmt_qual bsmt_cond  \\\n",
       "nulls     0          0          0          0        55        55   \n",
       "datatypes 0     object     object     object    object    object   \n",
       "\n",
       "            bsmt_exposure bsmtfin_type_1 bsmtfin_sf_1 bsmtfin_type_2  \\\n",
       "nulls     0            58             55            1             56   \n",
       "datatypes 0        object         object      float64         object   \n",
       "\n",
       "            bsmtfin_sf_2 bsmt_unf_sf total_bsmt_sf heating heating_qc  \\\n",
       "nulls     0            1           1             1       0          0   \n",
       "datatypes 0      float64     float64       float64  object     object   \n",
       "\n",
       "            central_air electrical 1st_flr_sf 2nd_flr_sf low_qual_fin_sf  \\\n",
       "nulls     0           0          0          0          0               0   \n",
       "datatypes 0      object     object      int64      int64           int64   \n",
       "\n",
       "            gr_liv_area bsmt_full_bath bsmt_half_bath full_bath half_bath  \\\n",
       "nulls     0           0              2              2         0         0   \n",
       "datatypes 0       int64        float64        float64     int64     int64   \n",
       "\n",
       "            bedroom_abvgr kitchen_abvgr kitchen_qual totrms_abvgrd functional  \\\n",
       "nulls     0             0             0            0             0          0   \n",
       "datatypes 0         int64         int64       object         int64     object   \n",
       "\n",
       "            fireplaces fireplace_qu garage_type garage_yr_blt garage_finish  \\\n",
       "nulls     0          0         1000         113           114           114   \n",
       "datatypes 0      int64       object      object       float64        object   \n",
       "\n",
       "            garage_cars garage_area garage_qual garage_cond paved_drive  \\\n",
       "nulls     0           1           1         114         114           0   \n",
       "datatypes 0     float64     float64      object      object      object   \n",
       "\n",
       "            wood_deck_sf open_porch_sf enclosed_porch 3ssn_porch screen_porch  \\\n",
       "nulls     0            0             0              0          0            0   \n",
       "datatypes 0        int64         int64          int64      int64        int64   \n",
       "\n",
       "            pool_area pool_qc   fence misc_feature misc_val mo_sold yr_sold  \\\n",
       "nulls     0         0    2042    1651         1986        0       0       0   \n",
       "datatypes 0     int64  object  object       object    int64   int64   int64   \n",
       "\n",
       "            sale_type saleprice  \n",
       "nulls     0         0         0  \n",
       "datatypes 0    object     int64  "
      ]
     },
     "execution_count": 13,
     "metadata": {},
     "output_type": "execute_result"
    }
   ],
   "source": [
    "# look at which columns have the most missing data\n",
    "# eda is a custom function I wrote to return the number of null values in each column\n",
    "# and the data types for each column as a pandas data frame\n",
    "# source for the code in assets/eda.py\n",
    "eda(train)"
   ]
  },
  {
   "cell_type": "markdown",
   "metadata": {},
   "source": [
    "__Fill misc_feature, alley, and fence missing values with \"None\"__\n",
    "\n",
    "According to the data dictionary, NA values in misc features, alley, and fence means that there is none."
   ]
  },
  {
   "cell_type": "code",
   "execution_count": 14,
   "metadata": {},
   "outputs": [],
   "source": [
    "# fill in NA values\n",
    "train[\"misc_feature\"].fillna(\"None\", inplace = True)\n",
    "train[\"alley\"].fillna(\"None\", inplace = True)\n",
    "train[\"fence\"].fillna(\"None\", inplace = True)"
   ]
  },
  {
   "cell_type": "markdown",
   "metadata": {},
   "source": [
    "__Create a boolean column for has pool vs. no pool__\n",
    "\n",
    "Since most of the rows have no pool, I think the quality grade is not as meaningful as \"pool v. no pool.\""
   ]
  },
  {
   "cell_type": "code",
   "execution_count": 15,
   "metadata": {},
   "outputs": [],
   "source": [
    "# create a new boolean column for houses with pool v. no pool\n",
    "train[\"has_pool\"] = np.where(train[\"pool_qc\"].notnull(), 1, 0)\n",
    "\n",
    "# check if that gave me the same number of rows as the null values\n",
    "# train[train[\"pool\"]==0] has 2042 rows"
   ]
  },
  {
   "cell_type": "markdown",
   "metadata": {},
   "source": [
    "Now I'm going to drop the rest of the pool columns."
   ]
  },
  {
   "cell_type": "code",
   "execution_count": 16,
   "metadata": {},
   "outputs": [],
   "source": [
    "# drop pool area and pool qc columns\n",
    "train.drop(columns = [\"pool_area\", \"pool_qc\"], inplace = True)"
   ]
  },
  {
   "cell_type": "markdown",
   "metadata": {},
   "source": [
    "__Create a boolean column for has remodel vs. no remodel__\n",
    "\n",
    "The \"year_remod/add\" column is the remodel date, which is the same as the construction date if there were no remodeling or additions. I'll create a \"has_remodel\" column for houses that have had a remodel, by seeing if the \"year_built\" date is different from the \"year_remod/add\" date.\n"
   ]
  },
  {
   "cell_type": "code",
   "execution_count": 17,
   "metadata": {},
   "outputs": [],
   "source": [
    "# create a new boolean column if the house has been remodeled vs. no remodel\n",
    "train[\"has_remodel\"] = np.where(train[\"year_built\"] != train[\"year_remod/add\"], 1, 0)"
   ]
  },
  {
   "cell_type": "markdown",
   "metadata": {},
   "source": [
    "__Look at fireplace quality values__\n",
    "\n",
    "Let's check if a null value in fireplace quality means that there is no fireplace. We can do this by taking a look at the fireplaces column."
   ]
  },
  {
   "cell_type": "code",
   "execution_count": 18,
   "metadata": {},
   "outputs": [
    {
     "data": {
      "text/plain": [
       "1000"
      ]
     },
     "execution_count": 18,
     "metadata": {},
     "output_type": "execute_result"
    }
   ],
   "source": [
    "# check the number of rows that have '0' in the fireplaces column\n",
    "len(train[train[\"fireplaces\"]==0])"
   ]
  },
  {
   "cell_type": "markdown",
   "metadata": {},
   "source": [
    "There are 1000 rows with no fireplace, which matches the number of missing rows in fireplace quality. I'll keep the missing values in fireplace quality as nulls."
   ]
  },
  {
   "cell_type": "markdown",
   "metadata": {},
   "source": [
    "__Look at garage variables__\n",
    "\n",
    "According to the data dictionary, a NA in garage type variable means that there's no garage.\n",
    "\n",
    "Garage Type (Nominal): Garage location\n",
    "\t\t\n",
    "       2Types\tMore than one type of garage\n",
    "       Attchd\tAttached to home\n",
    "       Basment\tBasement Garage\n",
    "       BuiltIn\tBuilt-In (Garage part of house - typically has room above garage)\n",
    "       CarPort\tCar Port\n",
    "       Detchd\tDetached from home\n",
    "       NA\tNo Garage\n",
    "\n",
    "|column|NA's|\n",
    "|---|---|\n",
    "|garage_finish|114|\n",
    "|garage_qual  |114|\n",
    "|garage_cond  |114|\n",
    "|garage_type  |113|\n",
    "|garage_area  |1|\n",
    "|garage_cars  |1|\n",
    "\n",
    "Since there are 113 NA values in garage_type, and 114 in the other associated garage columns, this means that there's one true NA value.\n"
   ]
  },
  {
   "cell_type": "code",
   "execution_count": 19,
   "metadata": {},
   "outputs": [],
   "source": [
    "# find the rows that do not have a garage\n",
    "no_garage = train[\"garage_type\"].isnull()  & train[\"garage_finish\"].isnull() & train[\"garage_qual\"].isnull()  & train[\"garage_cond\"].isnull()  == True"
   ]
  },
  {
   "cell_type": "code",
   "execution_count": 20,
   "metadata": {},
   "outputs": [],
   "source": [
    "# replace NA values with \"None\" across these rows\n",
    "train.loc[no_garage, train.columns[train.columns.str.contains(\"garage\")]] = train.loc[no_garage, train.columns[train.columns.str.contains(\"garage\")]].fillna(\"None\")"
   ]
  },
  {
   "cell_type": "markdown",
   "metadata": {},
   "source": [
    "### 3. Change some ordinal values into numeric"
   ]
  },
  {
   "cell_type": "markdown",
   "metadata": {},
   "source": [
    "__Look at ordinal definitions in our data set__\n",
    "\n",
    "I'll convert columns with this ordinal scale to a numeric.\n",
    "\n",
    "|Code|Definition|Numeric|\n",
    "|:---|:---|:---|\n",
    "|N|\tNo|0|\n",
    "|Y|\tYes|1|\n",
    "\n",
    "|Code|Definition|Numeric|\n",
    "|:---|:---|:---|\n",
    "|Ex|\tExcellent|5|\n",
    "|Gd|\tGood|4|\n",
    "|TA|\tAverage/Typical|3|\n",
    "|Fa|\tFair|2|\n",
    "|Po|\tPoor|1|\n",
    "\n",
    "\n",
    "|Code|Definition|Numeric|\n",
    "|:---|:---|:---|\n",
    "|Ex|\tExcellent|4|\n",
    "|Gd|\tGood|3|\n",
    "|TA|\tAverage/Typical|2|\n",
    "|Fa|\tFair|1|\n",
    "\n",
    "|Code|Definition|Numeric|\n",
    "|:---|:---|:---|\n",
    "|GLQ|\tGood Living Quarters|5|\n",
    "|ALQ|\tAverage Living Quarters|4|\n",
    "|BLQ|\tBelow Average Living Quarters|3|\n",
    "|Rec|\tAverage Rec Room|2|\n",
    "|LwQ|\tLow Quality|1|\n",
    "|Unf|\tUnfinshed|0|"
   ]
  },
  {
   "cell_type": "code",
   "execution_count": 21,
   "metadata": {},
   "outputs": [],
   "source": [
    "# create a conversion dictionary\n",
    "# this code was adapted from this stack overflow answer: https://stackoverflow.com/questions/21818886/changing-ordinal-character-data-to-numeric-data-with-pandas\n",
    "conv_dict_2={\n",
    "    \"Y\": 1,\n",
    "    \"N\": 0\n",
    "}\n",
    "\n",
    "conv_dict_5 = {\n",
    "    \"Ex\" : int(5),\n",
    "    \"Gd\" : int(4),\n",
    "    \"TA\" : int(3),\n",
    "    \"Fa\" : int(2),\n",
    "    \"Po\" : int(1),\n",
    "}\n",
    "\n",
    "\n",
    "conv_dict_4 = {\n",
    "    \"Ex\" : int(4),\n",
    "    \"Gd\" : int(3),\n",
    "    \"TA\" : int(2),\n",
    "    \"Fa\" : int(1)\n",
    "}\n",
    "\n",
    "conv_dict_6 ={\n",
    "    \"GLQ\" : 5,\n",
    "    \"ALQ\" : 4,\n",
    "    \"BLQ\" : 3,\n",
    "    \"Rec\" : 2,\n",
    "    \"LwQ\" : 1,\n",
    "    \"Unf\" : 0,\n",
    "}"
   ]
  },
  {
   "cell_type": "code",
   "execution_count": 22,
   "metadata": {},
   "outputs": [],
   "source": [
    "# use this to check how many columns have the same keys train.loc[:, train.nunique() == 5]\n",
    "# create a custom function that takes in the columns we want to convert, dataframe, and dictionary\n",
    "def replace_ordinal(columns, df, dictionary):\n",
    "    for column in columns:\n",
    "        df[column] = df[column].apply(dictionary.get)"
   ]
  },
  {
   "cell_type": "code",
   "execution_count": 23,
   "metadata": {},
   "outputs": [],
   "source": [
    "# convert the columns with \"Ex\", \"Gd\", \"TA\", \"Fa\", and \"Po\" values to a numeric\n",
    "replace_ordinal([\"exter_qual\",\n",
    "                 \"exter_cond\",\n",
    "                 \"bsmt_qual\", \n",
    "                 \"bsmt_cond\",\n",
    "                 \"heating_qc\",\n",
    "                 \"kitchen_qual\",\n",
    "                 \"garage_qual\",\n",
    "                 \"garage_cond\", \n",
    "                 \"fireplace_qu\"], train, conv_dict_5)"
   ]
  },
  {
   "cell_type": "code",
   "execution_count": 24,
   "metadata": {},
   "outputs": [],
   "source": [
    "# fill NA's with 0 for basment quality\n",
    "train[\"bsmt_qual\"].fillna(0, inplace = True)"
   ]
  },
  {
   "cell_type": "code",
   "execution_count": 25,
   "metadata": {},
   "outputs": [],
   "source": [
    "# fill NA's with 0 for garage quality\n",
    "train[\"garage_qual\"].fillna(0, inplace = True)"
   ]
  },
  {
   "cell_type": "code",
   "execution_count": 26,
   "metadata": {},
   "outputs": [],
   "source": [
    "# fill NA's with 0 for garage cars\n",
    "train[\"garage_cars\"].fillna(0, inplace = True)"
   ]
  },
  {
   "cell_type": "code",
   "execution_count": 27,
   "metadata": {},
   "outputs": [],
   "source": [
    "# convert the columns with \"GLQ\", \"ALQ\", \"BLQ\", \"Rec\", \"LwQ\", \"Unf\"  values to a numeric\n",
    "replace_ordinal([\"bsmtfin_type_1\", \"bsmtfin_type_2\"], train, conv_dict_6)"
   ]
  },
  {
   "cell_type": "code",
   "execution_count": 28,
   "metadata": {},
   "outputs": [],
   "source": [
    "# convert the columns with \"N\", \"Y\"  values to a numeric\n",
    "replace_ordinal([\"central_air\", \"paved_drive\"], train, conv_dict_2)"
   ]
  },
  {
   "cell_type": "markdown",
   "metadata": {},
   "source": [
    "### 4. Create dummy variables for neighborhood price ranges"
   ]
  },
  {
   "cell_type": "markdown",
   "metadata": {},
   "source": [
    "Create a new variable that calculates price per square foot."
   ]
  },
  {
   "cell_type": "code",
   "execution_count": 29,
   "metadata": {},
   "outputs": [],
   "source": [
    "train[\"price_per_sqft\"] = train[\"saleprice\"]/train[\"gr_liv_area\"]"
   ]
  },
  {
   "cell_type": "code",
   "execution_count": 30,
   "metadata": {},
   "outputs": [],
   "source": [
    "# create a custom function that categorizes sale prices as 'high' 'medium' and 'low' in comparison to the mean saleprice of the data\n",
    "def price_range(price):\n",
    "    if price < (train[\"price_per_sqft\"].mean() - np.std(train[\"price_per_sqft\"]) ):\n",
    "        return \"low\" # if price is below one std from mean, classify as low\n",
    "    if price > (train[\"price_per_sqft\"].mean() + np.std(train[\"price_per_sqft\"]) ):\n",
    "        return \"high\" # if price is one std abrove from mean, classify as high\n",
    "    else:\n",
    "        return \"medium\""
   ]
  },
  {
   "cell_type": "markdown",
   "metadata": {},
   "source": [
    "Create a new column for neighborhood_price to categorize how high/med/low the price is."
   ]
  },
  {
   "cell_type": "code",
   "execution_count": 31,
   "metadata": {},
   "outputs": [],
   "source": [
    "# return categorical variables for each price per sqft\n",
    "train[\"neighborhood_price\"] = train[\"price_per_sqft\"].apply(price_range)"
   ]
  },
  {
   "cell_type": "markdown",
   "metadata": {},
   "source": [
    "Create dummy variables"
   ]
  },
  {
   "cell_type": "code",
   "execution_count": 32,
   "metadata": {},
   "outputs": [
    {
     "data": {
      "text/plain": [
       "medium    1447\n",
       "low        310\n",
       "high       294\n",
       "Name: neighborhood_price, dtype: int64"
      ]
     },
     "execution_count": 32,
     "metadata": {},
     "output_type": "execute_result"
    }
   ],
   "source": [
    "train[\"neighborhood_price\"].value_counts()"
   ]
  },
  {
   "cell_type": "code",
   "execution_count": 33,
   "metadata": {},
   "outputs": [],
   "source": [
    "# create dummy variables\n",
    "train = pd.get_dummies(train, columns = [\"neighborhood_price\"])"
   ]
  },
  {
   "cell_type": "code",
   "execution_count": 34,
   "metadata": {},
   "outputs": [],
   "source": [
    "# remove the medium column\n",
    "train.drop(\"neighborhood_price_medium\", axis=1, inplace = True)"
   ]
  },
  {
   "cell_type": "markdown",
   "metadata": {},
   "source": [
    "__Let's create a dictionary for neighborhood and price range so we can replicate this in the Kaggle test data set__"
   ]
  },
  {
   "cell_type": "markdown",
   "metadata": {},
   "source": [
    "Create a dataframe that just has the average saleprice for each neighborhood"
   ]
  },
  {
   "cell_type": "code",
   "execution_count": 35,
   "metadata": {},
   "outputs": [],
   "source": [
    "# get average price per square foot per neighborhood\n",
    "avg_neighborhood_prices = pd.DataFrame(train.groupby(\"neighborhood\")[\"price_per_sqft\"].mean())"
   ]
  },
  {
   "cell_type": "markdown",
   "metadata": {},
   "source": [
    "Create a column that categorizes the saleprice as \"high\", \"medium\" and \"low\""
   ]
  },
  {
   "cell_type": "code",
   "execution_count": 36,
   "metadata": {},
   "outputs": [],
   "source": [
    "# classify each neighborhood price per square foot as \"high\" \"medium\" and \"low\"\n",
    "avg_neighborhood_prices[\"range\"] = avg_neighborhood_prices[\"price_per_sqft\"].apply(price_range)"
   ]
  },
  {
   "cell_type": "markdown",
   "metadata": {},
   "source": [
    "Convert the dataframe to a dictionary.\n",
    "This dictionary will be used to categorize each neighborhood by its sale price in Kaggle test data set."
   ]
  },
  {
   "cell_type": "code",
   "execution_count": 37,
   "metadata": {},
   "outputs": [
    {
     "data": {
      "text/plain": [
       "{'range': {'Blmngtn': 'medium',\n",
       "  'Blueste': 'medium',\n",
       "  'BrDale': 'medium',\n",
       "  'BrkSide': 'medium',\n",
       "  'ClearCr': 'medium',\n",
       "  'CollgCr': 'medium',\n",
       "  'Crawfor': 'medium',\n",
       "  'Edwards': 'medium',\n",
       "  'Gilbert': 'medium',\n",
       "  'Greens': 'medium',\n",
       "  'GrnHill': 'high',\n",
       "  'IDOTRR': 'low',\n",
       "  'Landmrk': 'medium',\n",
       "  'MeadowV': 'medium',\n",
       "  'Mitchel': 'medium',\n",
       "  'NAmes': 'medium',\n",
       "  'NPkVill': 'medium',\n",
       "  'NWAmes': 'medium',\n",
       "  'NoRidge': 'medium',\n",
       "  'NridgHt': 'high',\n",
       "  'OldTown': 'medium',\n",
       "  'SWISU': 'medium',\n",
       "  'Sawyer': 'medium',\n",
       "  'SawyerW': 'medium',\n",
       "  'Somerst': 'medium',\n",
       "  'StoneBr': 'high',\n",
       "  'Timber': 'medium',\n",
       "  'Veenker': 'medium'}}"
      ]
     },
     "execution_count": 37,
     "metadata": {},
     "output_type": "execute_result"
    }
   ],
   "source": [
    "# convert df to dictionary\n",
    "avg_neighborhood_prices[[\"range\"]].to_dict()"
   ]
  },
  {
   "cell_type": "markdown",
   "metadata": {},
   "source": [
    "### 5. Create a variable for housing stock per neighborhood"
   ]
  },
  {
   "cell_type": "markdown",
   "metadata": {},
   "source": [
    "Create a new variable to see how much housing is available per neighborhood.\n",
    "\n",
    "|Number of houses sold|Numeric|\n",
    "|:---|:---|\n",
    "|>200|5|\n",
    "|100-200|4|\n",
    "|50-100|3|\n",
    "|25-50|2|\n",
    "|0-25|1|"
   ]
  },
  {
   "cell_type": "markdown",
   "metadata": {},
   "source": [
    "Create a dictionary to calculate the numeric value for number of houses sold."
   ]
  },
  {
   "cell_type": "code",
   "execution_count": 38,
   "metadata": {
    "scrolled": true
   },
   "outputs": [
    {
     "data": {
      "text/plain": [
       "NAmes      310\n",
       "CollgCr    180\n",
       "OldTown    163\n",
       "Edwards    143\n",
       "Somerst    130\n",
       "NridgHt    122\n",
       "Gilbert    116\n",
       "Sawyer     111\n",
       "SawyerW     87\n",
       "NWAmes      87\n",
       "Mitchel     82\n",
       "BrkSide     76\n",
       "Crawfor     71\n",
       "IDOTRR      69\n",
       "Timber      48\n",
       "NoRidge     48\n",
       "StoneBr     38\n",
       "SWISU       32\n",
       "ClearCr     27\n",
       "MeadowV     24\n",
       "Blmngtn     22\n",
       "BrDale      19\n",
       "NPkVill     17\n",
       "Veenker     17\n",
       "Blueste      6\n",
       "Greens       3\n",
       "GrnHill      2\n",
       "Landmrk      1\n",
       "Name: neighborhood, dtype: int64"
      ]
     },
     "execution_count": 38,
     "metadata": {},
     "output_type": "execute_result"
    }
   ],
   "source": [
    "train[\"neighborhood\"].value_counts()"
   ]
  },
  {
   "cell_type": "code",
   "execution_count": 39,
   "metadata": {},
   "outputs": [],
   "source": [
    "housing_stock = {\n",
    "    \"NAmes\": 5,\n",
    "    \"CollgCr\": 4,\n",
    "    \"OldTown\": 4,\n",
    "    \"Edwards\": 4,\n",
    "    \"Somerst\": 4,\n",
    "    \"NridgHt\": 4,\n",
    "    \"Gilbert\": 4,\n",
    "    \"Sawyer\": 4,\n",
    "    \"NWAmes\": 3,\n",
    "    \"SawyerW\": 3,\n",
    "    \"Mitchel\": 3,\n",
    "    \"BrkSide\": 3,\n",
    "    \"Crawfor\": 3,\n",
    "    \"IDOTRR\": 3,\n",
    "    \"NoRidge\": 2,\n",
    "    \"Timber\": 2,\n",
    "    \"StoneBr\": 2,\n",
    "    \"SWISU\": 2,\n",
    "    \"ClearCr\": 2,\n",
    "    \"MeadowV\": 1,\n",
    "    \"Blmngtn\": 1,\n",
    "    \"BrDale\": 1,\n",
    "    \"NPkVill\": 1,\n",
    "    \"Veenker\": 1,\n",
    "    \"Blueste\": 1,\n",
    "    \"Greens\": 1,\n",
    "    \"GrnHill\": 1,\n",
    "    \"Landmrk\": 1\n",
    "}"
   ]
  },
  {
   "cell_type": "code",
   "execution_count": 40,
   "metadata": {},
   "outputs": [],
   "source": [
    "# categorize neighborhood sale prices\n",
    "train[\"housing_stock\"] = train[\"neighborhood\"].apply(housing_stock.get)"
   ]
  },
  {
   "cell_type": "markdown",
   "metadata": {},
   "source": [
    "I'm going to create a pickle of this training clean set for EDA, before creating the dummy variables."
   ]
  },
  {
   "cell_type": "code",
   "execution_count": 41,
   "metadata": {},
   "outputs": [],
   "source": [
    "pickle.dump(train, open(\"../assets/train_clean_eda.pkl\", \"wb\"))"
   ]
  },
  {
   "cell_type": "markdown",
   "metadata": {},
   "source": [
    "### 6. Create dummy variables for zone"
   ]
  },
  {
   "cell_type": "code",
   "execution_count": 42,
   "metadata": {},
   "outputs": [
    {
     "data": {
      "text/plain": [
       "RL         1598\n",
       "RM          316\n",
       "FV          101\n",
       "C (all)      19\n",
       "RH           14\n",
       "A (agr)       2\n",
       "I (all)       1\n",
       "Name: ms_zoning, dtype: int64"
      ]
     },
     "execution_count": 42,
     "metadata": {},
     "output_type": "execute_result"
    }
   ],
   "source": [
    "# start by looking at the counts for each\n",
    "train[\"ms_zoning\"].value_counts()"
   ]
  },
  {
   "cell_type": "markdown",
   "metadata": {},
   "source": [
    "I'm going to create an \"other\" category for the zones with less than 100 rows. "
   ]
  },
  {
   "cell_type": "code",
   "execution_count": 43,
   "metadata": {},
   "outputs": [],
   "source": [
    "# create function to read through the values for each type\n",
    "def format_zone(zone):\n",
    "    if zone == \"RL\":\n",
    "        return zone\n",
    "    if zone == \"RM\":\n",
    "        return zone\n",
    "    if zone == \"FV\" :\n",
    "        return zone\n",
    "    else:\n",
    "        return \"Other\""
   ]
  },
  {
   "cell_type": "code",
   "execution_count": 44,
   "metadata": {},
   "outputs": [],
   "source": [
    "# apply to ms_zone column\n",
    "train[\"ms_zoning\"] = train[\"ms_zoning\"].apply(format_zone)"
   ]
  },
  {
   "cell_type": "markdown",
   "metadata": {},
   "source": [
    "Create dummy variables for zone"
   ]
  },
  {
   "cell_type": "code",
   "execution_count": 45,
   "metadata": {},
   "outputs": [],
   "source": [
    "train = pd.get_dummies(train, columns = [\"ms_zoning\"])"
   ]
  },
  {
   "cell_type": "code",
   "execution_count": 46,
   "metadata": {},
   "outputs": [],
   "source": [
    "# remove the other column to set as default\n",
    "train.drop(\"ms_zoning_Other\", axis=1, inplace = True)"
   ]
  },
  {
   "cell_type": "markdown",
   "metadata": {},
   "source": [
    "### 7. Create dummy variables for condition"
   ]
  },
  {
   "cell_type": "code",
   "execution_count": 47,
   "metadata": {
    "scrolled": true
   },
   "outputs": [
    {
     "data": {
      "text/plain": [
       "Norm      1767\n",
       "Feedr      109\n",
       "Artery      70\n",
       "RRAn        36\n",
       "PosN        27\n",
       "RRAe        21\n",
       "PosA        12\n",
       "RRNn         6\n",
       "RRNe         3\n",
       "Name: condition_1, dtype: int64"
      ]
     },
     "execution_count": 47,
     "metadata": {},
     "output_type": "execute_result"
    }
   ],
   "source": [
    "# start by looking at the counts for each\n",
    "train[\"condition_1\"].value_counts()"
   ]
  },
  {
   "cell_type": "code",
   "execution_count": 48,
   "metadata": {},
   "outputs": [],
   "source": [
    "# create dummy variables\n",
    "train = pd.get_dummies(train, columns = [\"condition_1\"])"
   ]
  },
  {
   "cell_type": "code",
   "execution_count": 49,
   "metadata": {},
   "outputs": [],
   "source": [
    "# remove the normal column to set as default\n",
    "train.drop(\"condition_1_Norm\", axis=1, inplace = True)"
   ]
  },
  {
   "cell_type": "markdown",
   "metadata": {},
   "source": [
    "### 8. Create dummy variables for garage type\n",
    "\n",
    "In my research, garages that are attached to the are more valuable. So I will create an \"other\" category for either no garage or ones that are detached/carport."
   ]
  },
  {
   "cell_type": "code",
   "execution_count": 50,
   "metadata": {},
   "outputs": [],
   "source": [
    "# create function to read through the values for each type\n",
    "def format_garage(garage):\n",
    "    if garage == \"Attchd\":\n",
    "        return garage\n",
    "    if garage == \"BuiltIn\":\n",
    "        return garage\n",
    "    if garage == \"Basment\" :\n",
    "        return garage\n",
    "    else:\n",
    "        return \"Other\""
   ]
  },
  {
   "cell_type": "code",
   "execution_count": 51,
   "metadata": {},
   "outputs": [],
   "source": [
    "# apply to garage_type column\n",
    "train[\"garage_type\"] = train[\"garage_type\"].apply(format_garage)"
   ]
  },
  {
   "cell_type": "markdown",
   "metadata": {},
   "source": [
    "Create dummy variables for garage type"
   ]
  },
  {
   "cell_type": "code",
   "execution_count": 52,
   "metadata": {},
   "outputs": [],
   "source": [
    "train = pd.get_dummies(train, columns = [\"garage_type\"])"
   ]
  },
  {
   "cell_type": "code",
   "execution_count": 53,
   "metadata": {},
   "outputs": [],
   "source": [
    "# remove the other column to set as default\n",
    "train.drop(\"garage_type_Other\", axis=1, inplace = True)"
   ]
  },
  {
   "cell_type": "markdown",
   "metadata": {},
   "source": [
    "Create an interaction variable for garage quality * number of cars. Assuming that the more cars the garage fits, the better quality."
   ]
  },
  {
   "cell_type": "code",
   "execution_count": 54,
   "metadata": {},
   "outputs": [],
   "source": [
    "train[\"garage_qual_cars\"] = train[\"garage_qual\"] * train[\"garage_cars\"]"
   ]
  },
  {
   "cell_type": "markdown",
   "metadata": {},
   "source": [
    "### 9. Create a column for bathroom to bedroom ratio"
   ]
  },
  {
   "cell_type": "code",
   "execution_count": 55,
   "metadata": {},
   "outputs": [],
   "source": [
    "train[\"bed_bath_ratio\"] = train[\"bedroom_abvgr\"] / (train[\"full_bath\"] + train[\"half_bath\"])"
   ]
  },
  {
   "cell_type": "code",
   "execution_count": 56,
   "metadata": {},
   "outputs": [],
   "source": [
    "train[\"bed_bath_ratio\"].fillna(0, inplace = True)"
   ]
  },
  {
   "cell_type": "code",
   "execution_count": 57,
   "metadata": {},
   "outputs": [],
   "source": [
    "train[\"bed_bath_ratio\"].replace(np.inf, 0, inplace = True)"
   ]
  },
  {
   "cell_type": "code",
   "execution_count": null,
   "metadata": {},
   "outputs": [],
   "source": []
  },
  {
   "cell_type": "code",
   "execution_count": null,
   "metadata": {},
   "outputs": [],
   "source": []
  },
  {
   "cell_type": "code",
   "execution_count": null,
   "metadata": {},
   "outputs": [],
   "source": []
  },
  {
   "cell_type": "markdown",
   "metadata": {},
   "source": [
    "# Pickle clean data for modeling"
   ]
  },
  {
   "cell_type": "code",
   "execution_count": 58,
   "metadata": {},
   "outputs": [],
   "source": [
    "pickle.dump(train, open(\"../assets/train_clean_model.pkl\", \"wb\"))"
   ]
  },
  {
   "cell_type": "code",
   "execution_count": null,
   "metadata": {},
   "outputs": [],
   "source": []
  }
 ],
 "metadata": {
  "kernelspec": {
   "display_name": "Python 3",
   "language": "python",
   "name": "python3"
  },
  "language_info": {
   "codemirror_mode": {
    "name": "ipython",
    "version": 3
   },
   "file_extension": ".py",
   "mimetype": "text/x-python",
   "name": "python",
   "nbconvert_exporter": "python",
   "pygments_lexer": "ipython3",
   "version": "3.7.4"
  }
 },
 "nbformat": 4,
 "nbformat_minor": 2
}
